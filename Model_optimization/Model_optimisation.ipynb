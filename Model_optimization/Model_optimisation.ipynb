{
 "cells": [
  {
   "cell_type": "code",
   "execution_count": 1,
   "id": "e5d56277",
   "metadata": {},
   "outputs": [],
   "source": [
    "import pandas as pd\n",
    "import numpy as np\n",
    "import matplotlib.pyplot as plt\n",
    "import seaborn as sns\n"
   ]
  },
  {
   "cell_type": "markdown",
   "id": "101d2762-022a-4b2a-a69d-f636e26dc9a1",
   "metadata": {},
   "source": [
    "### The data frame used is already scaled and can be downloaded by running the code from the final juptyr notebook file."
   ]
  },
  {
   "cell_type": "code",
   "execution_count": 2,
   "id": "7c8bcad1",
   "metadata": {},
   "outputs": [],
   "source": [
    "df = pd.read_csv('Datasets/Base.csv')"
   ]
  },
  {
   "cell_type": "markdown",
   "id": "4ffbe21d",
   "metadata": {},
   "source": [
    "# RANDOM FOREST MODEL"
   ]
  },
  {
   "cell_type": "code",
   "execution_count": 6,
   "id": "fa3544a2",
   "metadata": {},
   "outputs": [
    {
     "name": "stdout",
     "output_type": "stream",
     "text": [
      "Classification Report:\n",
      "              precision    recall  f1-score   support\n",
      "\n",
      "           0       0.79      0.81      0.80      3335\n",
      "           1       0.80      0.79      0.79      3283\n",
      "\n",
      "    accuracy                           0.80      6618\n",
      "   macro avg       0.80      0.80      0.80      6618\n",
      "weighted avg       0.80      0.80      0.80      6618\n",
      "\n"
     ]
    }
   ],
   "source": [
    "from sklearn.linear_model import LinearRegression\n",
    "from sklearn.model_selection import train_test_split\n",
    "from sklearn.ensemble import RandomForestClassifier\n",
    "from sklearn.utils import resample\n",
    "from sklearn.preprocessing import StandardScaler\n",
    "from imblearn.over_sampling import SMOTE\n",
    "from sklearn.ensemble import GradientBoostingClassifier\n",
    "from sklearn.metrics import accuracy_score, classification_report, confusion_matrix\n",
    "\n",
    "# Count the number of instances for each class\n",
    "class_counts = df['fraud_bool'].value_counts()\n",
    "\n",
    "# Determine the number of instances for the minority class (1s)\n",
    "num_minority = class_counts.min()\n",
    "\n",
    "# Separate majority and minority classes\n",
    "df_majority = df[df['fraud_bool'] == 0]\n",
    "df_minority = df[df['fraud_bool'] == 1]\n",
    "\n",
    "# Randomly undersample the majority class\n",
    "df_majority_undersampled = resample(df_majority, \n",
    "                                     replace=False,  # do not want to replace\n",
    "                                     n_samples=num_minority,  # match minority class\n",
    "                                     random_state=42)  # reproducible results\n",
    "\n",
    "# Combine undersampled majority class with original minority class\n",
    "df_balanced = pd.concat([df_majority_undersampled, df_minority])\n",
    "\n",
    "# Shuffle the new DataFrame (optional)\n",
    "df_balanced = df_balanced.sample(frac=1, random_state=42).reset_index(drop=True)\n",
    "\n",
    "# Separate features and target variable\n",
    "X = df_balanced.drop('fraud_bool', axis=1)  # Features\n",
    "y = df_balanced['fraud_bool']  # Target variable\n",
    "\n",
    "# One-hot encode categorical variables\n",
    "X = pd.get_dummies(X, drop_first=True)\n",
    "\n",
    "# Split the data into training and testing sets\n",
    "X_train, X_test, y_train, y_test = train_test_split(X, y, test_size=0.3, random_state=42)\n",
    "\n",
    "# Train the model with balanced class weights\n",
    "model = RandomForestClassifier(class_weight='balanced', random_state=42)\n",
    "model.fit(X_train, y_train)\n",
    "\n",
    "# Make predictions\n",
    "y_pred = model.predict(X_test)\n",
    "\n",
    "# Print classification report\n",
    "print(\"Classification Report:\")\n",
    "print(classification_report(y_test, y_pred))"
   ]
  },
  {
   "cell_type": "markdown",
   "id": "d2f7b0a4",
   "metadata": {},
   "source": [
    "# RANDOM FOREST (SMOTE)"
   ]
  },
  {
   "cell_type": "code",
   "execution_count": 4,
   "id": "109e4dc6",
   "metadata": {},
   "outputs": [
    {
     "name": "stdout",
     "output_type": "stream",
     "text": [
      "              precision    recall  f1-score   support\n",
      "\n",
      "           0       0.97      0.98      0.98    296961\n",
      "           1       0.98      0.97      0.98    296422\n",
      "\n",
      "    accuracy                           0.98    593383\n",
      "   macro avg       0.98      0.98      0.98    593383\n",
      "weighted avg       0.98      0.98      0.98    593383\n",
      "\n"
     ]
    }
   ],
   "source": [
    "\n",
    "# Select features to use in anomaly detection\n",
    "features = ['intended_balcon_amount', 'velocity_6h', 'velocity_24h', 'customer_age']\n",
    "\n",
    "# Scale the data\n",
    "scaler = StandardScaler()\n",
    "X_scaled = scaler.fit_transform(df[features])\n",
    "\n",
    "# Select features and target\n",
    "X = df[features]\n",
    "y = df['fraud_bool']\n",
    "\n",
    "# Apply SMOTE to balance the classes\n",
    "smote = SMOTE(random_state=42)\n",
    "X_resampled, y_resampled = smote.fit_resample(X, y)\n",
    "\n",
    "# Train/Test Split\n",
    "X_train, X_test, y_train, y_test = train_test_split(X_resampled, y_resampled, test_size=0.3, random_state=42)\n",
    "\n",
    "# Train the model with class weight\n",
    "model = RandomForestClassifier(class_weight='balanced', random_state=42)\n",
    "model.fit(X_train, y_train)\n",
    "\n",
    "# Make predictions\n",
    "y_pred = model.predict(X_test)\n",
    "\n",
    "# Evaluate the model\n",
    "print(classification_report(y_test, y_pred))"
   ]
  },
  {
   "cell_type": "markdown",
   "id": "9b975d5c",
   "metadata": {},
   "source": [
    "# RANDOM FOREST "
   ]
  },
  {
   "cell_type": "code",
   "execution_count": 7,
   "id": "895ae458",
   "metadata": {},
   "outputs": [
    {
     "name": "stdout",
     "output_type": "stream",
     "text": [
      "Unique values in y: [0 1]\n",
      "Accuracy: 0.98926\n",
      "Classification Report:\n",
      "               precision    recall  f1-score   support\n",
      "\n",
      "           0       0.99      1.00      0.99    247320\n",
      "           1       0.31      0.00      0.00      2680\n",
      "\n",
      "    accuracy                           0.99    250000\n",
      "   macro avg       0.65      0.50      0.50    250000\n",
      "weighted avg       0.98      0.99      0.98    250000\n",
      "\n",
      "Confusion Matrix:\n",
      " [[247311      9]\n",
      " [  2676      4]]\n"
     ]
    }
   ],
   "source": [
    "\n",
    "# Step 2: Define Features and Target\n",
    "X = df.drop(columns=[\"fraud_bool\"])  # Features\n",
    "y = df[\"fraud_bool\"]  # Target\n",
    "\n",
    "# Step 3: Check Unique Values in Target\n",
    "print(\"Unique values in y:\", y.unique())\n",
    "\n",
    "# Step 4: Train-Test Split\n",
    "X_train, X_test, y_train, y_test = train_test_split(X, y, random_state=42)\n",
    "\n",
    "# Step 5: One-Hot Encoding of Categorical Variables\n",
    "categorical_cols = X_train.select_dtypes(include=['object']).columns.tolist()\n",
    "X_train = pd.get_dummies(X_train, columns=categorical_cols, drop_first=True)\n",
    "X_test = pd.get_dummies(X_test, columns=categorical_cols, drop_first=True)\n",
    "\n",
    "# Ensure both training and testing sets have the same columns after encoding\n",
    "X_train, X_test = X_train.align(X_test, join='left', axis=1, fill_value=0)\n",
    "\n",
    "# Step 6: Scaling the Data\n",
    "scaler = StandardScaler()\n",
    "X_train_scaled = scaler.fit_transform(X_train)\n",
    "X_test_scaled = scaler.transform(X_test)\n",
    "\n",
    "# Convert back to DataFrame if needed\n",
    "X_train_scaled = pd.DataFrame(X_train_scaled, columns=X_train.columns)\n",
    "X_test_scaled = pd.DataFrame(X_test_scaled, columns=X_test.columns)\n",
    "\n",
    "# Step 7: Fit the Random Forest Model\n",
    "rf_model = RandomForestClassifier(n_estimators=500, class_weight='balanced', random_state=42)\n",
    "rf_model.fit(X_train_scaled, y_train)\n",
    "\n",
    "# Step 8: Evaluate the Model\n",
    "y_pred = rf_model.predict(X_test_scaled)\n",
    "\n",
    "# Print accuracy and classification report\n",
    "print(\"Accuracy:\", accuracy_score(y_test, y_pred))\n",
    "print(\"Classification Report:\\n\", classification_report(y_test, y_pred))\n",
    "\n",
    "# Step 9: Confusion Matrix\n",
    "cm = confusion_matrix(y_test, y_pred)\n",
    "print(\"Confusion Matrix:\\n\", cm)\n"
   ]
  },
  {
   "cell_type": "markdown",
   "id": "408261d3",
   "metadata": {},
   "source": [
    "# LINEAR REGRESSION"
   ]
  },
  {
   "cell_type": "code",
   "execution_count": 8,
   "id": "4a628243",
   "metadata": {},
   "outputs": [
    {
     "name": "stdout",
     "output_type": "stream",
     "text": [
      "Unique values in y: [0 1]\n",
      "Accuracy (Linear Regression): 0.98928\n",
      "Classification Report (Linear Regression):\n",
      "               precision    recall  f1-score   support\n",
      "\n",
      "           0       0.99      1.00      0.99    247320\n",
      "           1       0.00      0.00      0.00      2680\n",
      "\n",
      "    accuracy                           0.99    250000\n",
      "   macro avg       0.49      0.50      0.50    250000\n",
      "weighted avg       0.98      0.99      0.98    250000\n",
      "\n"
     ]
    },
    {
     "name": "stderr",
     "output_type": "stream",
     "text": [
      "C:\\Users\\anthonynigga\\anaconda3\\envs\\dev\\lib\\site-packages\\sklearn\\metrics\\_classification.py:1509: UndefinedMetricWarning: Precision is ill-defined and being set to 0.0 in labels with no predicted samples. Use `zero_division` parameter to control this behavior.\n",
      "  _warn_prf(average, modifier, f\"{metric.capitalize()} is\", len(result))\n",
      "C:\\Users\\anthonynigga\\anaconda3\\envs\\dev\\lib\\site-packages\\sklearn\\metrics\\_classification.py:1509: UndefinedMetricWarning: Precision is ill-defined and being set to 0.0 in labels with no predicted samples. Use `zero_division` parameter to control this behavior.\n",
      "  _warn_prf(average, modifier, f\"{metric.capitalize()} is\", len(result))\n",
      "C:\\Users\\anthonynigga\\anaconda3\\envs\\dev\\lib\\site-packages\\sklearn\\metrics\\_classification.py:1509: UndefinedMetricWarning: Precision is ill-defined and being set to 0.0 in labels with no predicted samples. Use `zero_division` parameter to control this behavior.\n",
      "  _warn_prf(average, modifier, f\"{metric.capitalize()} is\", len(result))\n"
     ]
    }
   ],
   "source": [
    "\n",
    "# Step 2: Define Features and Target\n",
    "X = df.drop(columns=[\"fraud_bool\"])  # Features\n",
    "y = df[\"fraud_bool\"]  # Target\n",
    "\n",
    "# Step 3: Check Unique Values in Target\n",
    "print(\"Unique values in y:\", y.unique())\n",
    "\n",
    "# Step 4: Train-Test Split\n",
    "X_train, X_test, y_train, y_test = train_test_split(X, y, random_state=42)\n",
    "\n",
    "# Step 5: One-Hot Encoding of Categorical Variables\n",
    "categorical_cols = X_train.select_dtypes(include=['object']).columns.tolist()\n",
    "X_train = pd.get_dummies(X_train, columns=categorical_cols, drop_first=True)\n",
    "X_test = pd.get_dummies(X_test, columns=categorical_cols, drop_first=True)\n",
    "\n",
    "# Ensure both training and testing sets have the same columns after encoding\n",
    "X_train, X_test = X_train.align(X_test, join='left', axis=1, fill_value=0)\n",
    "\n",
    "# Step 6: Scaling the Data\n",
    "scaler = StandardScaler()\n",
    "X_train_scaled = scaler.fit_transform(X_train)\n",
    "X_test_scaled = scaler.transform(X_test)\n",
    "\n",
    "# Step 7: Fit the Linear Regression Model\n",
    "lin_model = LinearRegression()\n",
    "lin_model.fit(X_train_scaled, y_train)\n",
    "\n",
    "# Step 8: Predict\n",
    "y_pred_lin = lin_model.predict(X_test_scaled)\n",
    "\n",
    "# Note: Predictions will be continuous; you might need to threshold them for binary classification\n",
    "threshold = 0.5\n",
    "y_pred_binary = (y_pred_lin > threshold).astype(int)\n",
    "\n",
    "# Evaluate\n",
    "print(\"Accuracy (Linear Regression):\", accuracy_score(y_test, y_pred_binary))\n",
    "print(\"Classification Report (Linear Regression):\\n\", classification_report(y_test, y_pred_binary))"
   ]
  },
  {
   "cell_type": "markdown",
   "id": "f1a04761",
   "metadata": {},
   "source": [
    "# GRADIENT BOOSTING"
   ]
  },
  {
   "cell_type": "code",
   "execution_count": 9,
   "id": "f7cd9052",
   "metadata": {},
   "outputs": [
    {
     "name": "stdout",
     "output_type": "stream",
     "text": [
      "Train Accuracy (Gradient Boosting): 0.99\n",
      "Test Accuracy (Gradient Boosting): 0.99\n",
      "Classification Report (Test):\n",
      "               precision    recall  f1-score   support\n",
      "\n",
      "           0       0.99      1.00      0.99    247243\n",
      "           1       0.62      0.02      0.04      2757\n",
      "\n",
      "    accuracy                           0.99    250000\n",
      "   macro avg       0.80      0.51      0.52    250000\n",
      "weighted avg       0.99      0.99      0.98    250000\n",
      "\n"
     ]
    }
   ],
   "source": [
    "\n",
    "# Step 2: Define Features and Target\n",
    "X = df.drop(columns=[\"fraud_bool\"])  # Adjust column name as needed\n",
    "y = df[\"fraud_bool\"]\n",
    "\n",
    "# Step 3: Train-Test Split\n",
    "X_train, X_test, y_train, y_test = train_test_split(X, y, random_state=42, stratify=y)\n",
    "\n",
    "# Step 4: One-Hot Encoding of Categorical Variables\n",
    "categorical_cols = X_train.select_dtypes(include=['object']).columns.tolist()\n",
    "X_train = pd.get_dummies(X_train, columns=categorical_cols, drop_first=True)\n",
    "X_test = pd.get_dummies(X_test, columns=categorical_cols, drop_first=True)\n",
    "\n",
    "# Ensure both training and testing sets have the same columns after encoding\n",
    "X_train, X_test = X_train.align(X_test, join='left', axis=1, fill_value=0)\n",
    "\n",
    "# Step 5: Scaling the Data (optional)\n",
    "scaler = StandardScaler()\n",
    "X_train_scaled = scaler.fit_transform(X_train)\n",
    "X_test_scaled = scaler.transform(X_test)\n",
    "\n",
    "# Step 6: Create and Fit the Gradient Boosting Classifier\n",
    "gb_clf = GradientBoostingClassifier(learning_rate=0.05, n_estimators=100, random_state=42)\n",
    "gb_clf.fit(X_train_scaled, y_train)\n",
    "\n",
    "# Step 7: Make Predictions\n",
    "y_pred_train = gb_clf.predict(X_train_scaled)\n",
    "y_pred_test = gb_clf.predict(X_test_scaled)\n",
    "\n",
    "# Step 8: Evaluate the Model\n",
    "train_accuracy = accuracy_score(y_train, y_pred_train)\n",
    "test_accuracy = accuracy_score(y_test, y_pred_test)\n",
    "\n",
    "print('Train Accuracy (Gradient Boosting): {:.2f}'.format(train_accuracy))\n",
    "print('Test Accuracy (Gradient Boosting): {:.2f}'.format(test_accuracy))\n",
    "print(\"Classification Report (Test):\\n\", classification_report(y_test, y_pred_test))"
   ]
  },
  {
   "cell_type": "markdown",
   "id": "be460245",
   "metadata": {},
   "source": [
    "# GRADIENT BOOSTING (SMOTE)"
   ]
  },
  {
   "cell_type": "code",
   "execution_count": 10,
   "id": "bf93b15a",
   "metadata": {},
   "outputs": [
    {
     "name": "stdout",
     "output_type": "stream",
     "text": [
      "Train Accuracy (Gradient Boosting): 0.95\n",
      "Test Accuracy (Gradient Boosting): 0.95\n",
      "Classification Report (Test):\n",
      "               precision    recall  f1-score   support\n",
      "\n",
      "           0       0.99      0.95      0.97    247243\n",
      "           1       0.08      0.36      0.13      2757\n",
      "\n",
      "    accuracy                           0.95    250000\n",
      "   macro avg       0.54      0.66      0.55    250000\n",
      "weighted avg       0.98      0.95      0.96    250000\n",
      "\n"
     ]
    }
   ],
   "source": [
    "X = df.drop(columns=[\"fraud_bool\"])  # Adjust column name as needed\n",
    "y = df[\"fraud_bool\"]\n",
    "\n",
    "# Step 3: Train-Test Split\n",
    "X_train, X_test, y_train, y_test = train_test_split(X, y, random_state=42, stratify=y)\n",
    "\n",
    "# Step 4: One-Hot Encoding of Categorical Variables\n",
    "categorical_cols = X_train.select_dtypes(include=['object']).columns.tolist()\n",
    "X_train = pd.get_dummies(X_train, columns=categorical_cols, drop_first=True)\n",
    "X_test = pd.get_dummies(X_test, columns=categorical_cols, drop_first=True)\n",
    "\n",
    "# Ensure both training and testing sets have the same columns after encoding\n",
    "X_train, X_test = X_train.align(X_test, join='left', axis=1, fill_value=0)\n",
    "\n",
    "# Step 5: Apply SMOTE to the training data\n",
    "smote = SMOTE(random_state=42)\n",
    "X_train_resampled, y_train_resampled = smote.fit_resample(X_train, y_train)\n",
    "\n",
    "# Step 6: Scaling the Data (optional)\n",
    "scaler = StandardScaler()\n",
    "X_train_scaled = scaler.fit_transform(X_train_resampled)\n",
    "X_test_scaled = scaler.transform(X_test)\n",
    "\n",
    "# Step 7: Create and Fit the Gradient Boosting Classifier\n",
    "gb_clf = GradientBoostingClassifier(learning_rate=0.05, n_estimators=100, random_state=42)\n",
    "gb_clf.fit(X_train_scaled, y_train_resampled)\n",
    "\n",
    "# Step 8: Make Predictions\n",
    "y_pred_train = gb_clf.predict(X_train_scaled)\n",
    "y_pred_test = gb_clf.predict(X_test_scaled)\n",
    "\n",
    "# Step 9: Evaluate the Model\n",
    "train_accuracy = accuracy_score(y_train_resampled, y_pred_train)\n",
    "test_accuracy = accuracy_score(y_test, y_pred_test)\n",
    "\n",
    "print('Train Accuracy (Gradient Boosting): {:.2f}'.format(train_accuracy))\n",
    "print('Test Accuracy (Gradient Boosting): {:.2f}'.format(test_accuracy))\n",
    "print(\"Classification Report (Test):\\n\", classification_report(y_test, y_pred_test))"
   ]
  },
  {
   "cell_type": "code",
   "execution_count": null,
   "id": "8aa2e368",
   "metadata": {},
   "outputs": [],
   "source": []
  }
 ],
 "metadata": {
  "kernelspec": {
   "display_name": "Python 3 (ipykernel)",
   "language": "python",
   "name": "python3"
  },
  "language_info": {
   "codemirror_mode": {
    "name": "ipython",
    "version": 3
   },
   "file_extension": ".py",
   "mimetype": "text/x-python",
   "name": "python",
   "nbconvert_exporter": "python",
   "pygments_lexer": "ipython3",
   "version": "3.11.7"
  }
 },
 "nbformat": 4,
 "nbformat_minor": 5
}
